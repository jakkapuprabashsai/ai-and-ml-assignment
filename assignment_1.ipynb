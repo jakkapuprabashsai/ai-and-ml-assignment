{
  "nbformat": 4,
  "nbformat_minor": 0,
  "metadata": {
    "colab": {
      "provenance": [],
      "authorship_tag": "ABX9TyNl9U6TcdGfI2oo5I1RdgUE",
      "include_colab_link": true
    },
    "kernelspec": {
      "name": "python3",
      "display_name": "Python 3"
    },
    "language_info": {
      "name": "python"
    }
  },
  "cells": [
    {
      "cell_type": "markdown",
      "metadata": {
        "id": "view-in-github",
        "colab_type": "text"
      },
      "source": [
        "<a href=\"https://colab.research.google.com/github/jakkapuprabashsai/ai-and-ml-assignment/blob/main/assignment_1.ipynb\" target=\"_parent\"><img src=\"https://colab.research.google.com/assets/colab-badge.svg\" alt=\"Open In Colab\"/></a>"
      ]
    },
    {
      "cell_type": "code",
      "execution_count": 15,
      "metadata": {
        "id": "ITyYrzapNL0m"
      },
      "outputs": [],
      "source": [
        "# Task1 create two lists & join those two lists"
      ]
    },
    {
      "cell_type": "code",
      "source": [
        "# creating two lists\n",
        "\n",
        "test_list1 =[1,4,5,6,5]\n",
        "test_list2 =[3,5,7,2,5]\n",
        "#using + operator\n",
        "test_list3=test_list1+test_list2\n",
        "# printing concatenated list\n",
        "print (\"concatenated list using + : \" + str(test_list3))"
      ],
      "metadata": {
        "colab": {
          "base_uri": "https://localhost:8080/"
        },
        "id": "mgTnUJLHODuH",
        "outputId": "583706d2-fff4-4591-871a-500e323d8cbf"
      },
      "execution_count": null,
      "outputs": [
        {
          "output_type": "stream",
          "name": "stdout",
          "text": [
            "concatenated list using + : [1, 4, 5, 6, 5, 3, 5, 7, 2, 5]\n"
          ]
        }
      ]
    },
    {
      "cell_type": "code",
      "source": [
        "# task 2 : with \"if\" statement find  the even numbers"
      ],
      "metadata": {
        "id": "wey9Z7-eQIiN"
      },
      "execution_count": null,
      "outputs": []
    },
    {
      "cell_type": "code",
      "source": [
        "sum = int (input(\"enter a number : \"))\n",
        "if(sum%2)==0:\n",
        " print(\"the number is even \")\n",
        "else :\n",
        "  print(\"the number is not even\")"
      ],
      "metadata": {
        "colab": {
          "base_uri": "https://localhost:8080/"
        },
        "id": "ErGw051NQfqN",
        "outputId": "31034c48-45ee-4dee-8968-cb33be248b77"
      },
      "execution_count": null,
      "outputs": [
        {
          "output_type": "stream",
          "name": "stdout",
          "text": [
            "enter a number : 69\n",
            "the number is not even\n"
          ]
        }
      ]
    },
    {
      "cell_type": "code",
      "source": [
        "# Task 3 create a dictionary with 3 keys and 2 values for each key"
      ],
      "metadata": {
        "id": "-vQAAn62R0h0"
      },
      "execution_count": 3,
      "outputs": []
    },
    {
      "cell_type": "code",
      "source": [
        "# create a dictionary with 3keys\n",
        "# each key has two values\n",
        "demo = {'first': [1,2],\n",
        "        'second':[3,4],\n",
        "        'third':[5,6]}\n",
        "# getting values of a key\n",
        "example=demo['first']\n",
        "print(example)"
      ],
      "metadata": {
        "id": "9qYUi5aASUqg",
        "colab": {
          "base_uri": "https://localhost:8080/"
        },
        "outputId": "488f47ba-3507-425f-83ab-487afb2c7793"
      },
      "execution_count": 2,
      "outputs": [
        {
          "output_type": "stream",
          "name": "stdout",
          "text": [
            "[1, 2]\n"
          ]
        }
      ]
    },
    {
      "cell_type": "code",
      "source": [
        "#  Task 4 create a function with 'if' statement which is used to find the odd numbers"
      ],
      "metadata": {
        "id": "5_s1PI61FHsL"
      },
      "execution_count": 9,
      "outputs": []
    },
    {
      "cell_type": "code",
      "source": [
        "num=int(input(\"enetr any number :\"))\n",
        "if(num%2)==0:\n",
        "  print(\"{0}is not an odd number\".format(num))\n",
        "else:\n",
        "  print(\"{0} is an odd number\".format(num))"
      ],
      "metadata": {
        "colab": {
          "base_uri": "https://localhost:8080/"
        },
        "id": "mJeLFW_mFj-D",
        "outputId": "0fb324e6-be7a-4e34-e1d4-fb8f45da352e"
      },
      "execution_count": 8,
      "outputs": [
        {
          "output_type": "stream",
          "name": "stdout",
          "text": [
            "enetr any number :11\n",
            "11 is an odd number\n"
          ]
        }
      ]
    },
    {
      "cell_type": "code",
      "source": [
        "# Task 5 write  apython function with if statement to sum all the numbers in a list\n",
        "# sample list : (8,2,3,0,7)\n",
        "# expected output : 20"
      ],
      "metadata": {
        "id": "5zlsRawmHc7m"
      },
      "execution_count": 10,
      "outputs": []
    },
    {
      "cell_type": "code",
      "source": [
        "# python program is find the sum of the elements in the list\n",
        "# creating list"
      ],
      "metadata": {
        "id": "tFM7yS8HIaxf"
      },
      "execution_count": 11,
      "outputs": []
    },
    {
      "cell_type": "code",
      "source": [
        "list1=[ 8,2,3,0,7]\n",
        "# using sum() function\n",
        "total = sum (list1)\n",
        "# printing the output\n",
        "print (\"the sum of elements in list :\",total)"
      ],
      "metadata": {
        "colab": {
          "base_uri": "https://localhost:8080/"
        },
        "id": "E70OWhnBI5Cd",
        "outputId": "800736a0-2acb-4596-d2ee-4eb81e708d1f"
      },
      "execution_count": 14,
      "outputs": [
        {
          "output_type": "stream",
          "name": "stdout",
          "text": [
            "the sum of elements in list : 20\n"
          ]
        }
      ]
    }
  ]
}